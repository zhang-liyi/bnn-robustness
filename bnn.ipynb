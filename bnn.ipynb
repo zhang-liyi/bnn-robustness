{
 "cells": [
  {
   "cell_type": "markdown",
   "metadata": {
    "id": "ChZGW0jHP8QQ"
   },
   "source": [
    "# **Bayesian Neural Net**"
   ]
  },
  {
   "cell_type": "markdown",
   "metadata": {
    "id": "ImI5JzFvQBUe"
   },
   "source": [
    "# Get Data\n",
    "Below gets the MNIST data and creates batches"
   ]
  },
  {
   "cell_type": "code",
   "execution_count": null,
   "metadata": {
    "colab": {
     "base_uri": "https://localhost:8080/"
    },
    "id": "bAu9bexLQDnB",
    "outputId": "ba124fbf-be88-4286-994d-6974317b82d5"
   },
   "outputs": [
    {
     "name": "stdout",
     "output_type": "stream",
     "text": [
      "Downloading data from https://storage.googleapis.com/tensorflow/tf-keras-datasets/mnist.npz\n",
      "11493376/11490434 [==============================] - 1s 0us/step\n"
     ]
    }
   ],
   "source": [
    "import numpy as np\n",
    "import matplotlib.pyplot as plt\n",
    "import tensorflow as tf\n",
    "import tensorflow_probability as tfp\n",
    "import tensorflow.keras as keras\n",
    "from copy import deepcopy\n",
    "from keras.models import load_model\n",
    "\n",
    "(x_train, y_train), (x_test, y_test) = tf.keras.datasets.mnist.load_data(path='mnist.npz')\n",
    "x_train, x_val = tf.split(x_train, [50000, 10000], axis=0)\n",
    "y_train, y_val = tf.split(y_train, [50000, 10000], axis=0)\n",
    "\n",
    "train_size = x_train.shape[0]\n",
    "batch_size = 128\n",
    "\n",
    "x_train = x_train/126\n",
    "x_val = x_val/126\n",
    "x_test = x_test/126\n",
    "y_train = tf.one_hot(y_train, 10)/1\n",
    "y_val = tf.one_hot(y_val, 10)/1\n",
    "y_test = tf.one_hot(y_test, 10)/1\n",
    "train_dataset = tf.data.Dataset.from_tensor_slices((x_train, y_train))\n",
    "train_dataset = train_dataset.shuffle(buffer_size=1024).batch(batch_size)\n",
    "\n",
    "path = 'results/'\n"
   ]
  },
  {
   "cell_type": "code",
   "execution_count": null,
   "metadata": {
    "colab": {
     "base_uri": "https://localhost:8080/"
    },
    "id": "ijKHZwZhpSYu",
    "outputId": "ec9a3238-7327-4f6f-b920-99508c4f58c9"
   },
   "outputs": [
    {
     "data": {
      "text/plain": [
       "TensorShape([50000, 28, 28])"
      ]
     },
     "execution_count": 4,
     "metadata": {
      "tags": []
     },
     "output_type": "execute_result"
    }
   ],
   "source": [
    "x_train.shape"
   ]
  },
  {
   "cell_type": "code",
   "execution_count": null,
   "metadata": {
    "colab": {
     "base_uri": "https://localhost:8080/",
     "height": 282
    },
    "id": "ltjNv8AdEDvc",
    "outputId": "5237a928-8970-48bb-a889-f5979aaff26b"
   },
   "outputs": [
    {
     "data": {
      "text/plain": [
       "<matplotlib.image.AxesImage at 0x7f4e80608358>"
      ]
     },
     "execution_count": 5,
     "metadata": {
      "tags": []
     },
     "output_type": "execute_result"
    },
    {
     "data": {
      "image/png": "[encoded data removed]",
      "text/plain": [
       "<Figure size 432x288 with 1 Axes>"
      ]
     },
     "metadata": {
      "needs_background": "light",
      "tags": []
     },
     "output_type": "display_data"
    }
   ],
   "source": [
    "plt.imshow(x_train[0])"
   ]
  },
  {
   "cell_type": "code",
   "execution_count": null,
   "metadata": {
    "colab": {
     "base_uri": "https://localhost:8080/"
    },
    "id": "VMVKyuEp-uW3",
    "outputId": "f0ae1355-c854-42f2-834b-22ddf4994ed2"
   },
   "outputs": [
    {
     "data": {
      "text/plain": [
       "<tf.Tensor: shape=(10,), dtype=float32, numpy=array([0., 0., 0., 0., 0., 1., 0., 0., 0., 0.], dtype=float32)>"
      ]
     },
     "execution_count": 6,
     "metadata": {
      "tags": []
     },
     "output_type": "execute_result"
    }
   ],
   "source": [
    "y_train[0]"
   ]
  },
  {
   "cell_type": "markdown",
   "metadata": {
    "id": "7Udx7H6SQQNZ"
   },
   "source": [
    "# Define Layer\n",
    "A layer that imitates the Dense layer but introduces randomness"
   ]
  },
  {
   "cell_type": "code",
   "execution_count": null,
   "metadata": {
    "id": "RFsRb2cmQMuh"
   },
   "outputs": [],
   "source": [
    "# Credits of this cell to: https://github.com/krasserm/bayesian-machine-learning\n",
    "\n",
    "from keras import backend as K\n",
    "from keras import activations, initializers\n",
    "from keras.layers import Layer\n",
    "\n",
    "\n",
    "class DenseVariational(Layer):\n",
    "    def __init__(self,\n",
    "                 units,\n",
    "                 kl_weight,\n",
    "                 activation=None,\n",
    "                 prior_sigma_1=1.5,\n",
    "                 prior_sigma_2=0.1,\n",
    "                 prior_pi=0.5, \n",
    "                 **kwargs):\n",
    "        self.units = units\n",
    "        self.kl_weight = kl_weight\n",
    "        self.activation = activations.get(activation)\n",
    "        self.prior_sigma_1 = prior_sigma_1\n",
    "        self.prior_sigma_2 = prior_sigma_2\n",
    "        self.prior_pi_1 = prior_pi\n",
    "        self.prior_pi_2 = 1.0 - prior_pi\n",
    "        self.init_sigma = np.sqrt(self.prior_pi_1 * self.prior_sigma_1 ** 2 +\n",
    "                                  self.prior_pi_2 * self.prior_sigma_2 ** 2)\n",
    "\n",
    "        super().__init__(**kwargs)\n",
    "\n",
    "    def compute_output_shape(self, input_shape):\n",
    "        return input_shape[0], self.units\n",
    "\n",
    "    def build(self, input_shape):\n",
    "        self.kernel_mu = self.add_weight(name='kernel_mu',\n",
    "                                         shape=(input_shape[1], self.units),\n",
    "                                         initializer=initializers.TruncatedNormal(stddev=self.init_sigma),\n",
    "                                         trainable=True)\n",
    "        self.bias_mu = self.add_weight(name='bias_mu',\n",
    "                                       shape=(self.units,),\n",
    "                                       initializer=initializers.TruncatedNormal(stddev=self.init_sigma),\n",
    "                                       trainable=True)\n",
    "        self.kernel_rho = self.add_weight(name='kernel_rho',\n",
    "                                          shape=(input_shape[1], self.units),\n",
    "                                          initializer=initializers.Constant(-2.5),\n",
    "                                          trainable=True)\n",
    "        self.bias_rho = self.add_weight(name='bias_rho',\n",
    "                                        shape=(self.units,),\n",
    "                                        initializer=initializers.Constant(-2.5),\n",
    "                                        trainable=True)\n",
    "        super().build(input_shape)\n",
    "\n",
    "    def call(self, inputs, **kwargs):\n",
    "        kernel_sigma = tf.math.softplus(self.kernel_rho)\n",
    "        kernel = self.kernel_mu + kernel_sigma * tf.random.normal(self.kernel_mu.shape)\n",
    "\n",
    "        bias_sigma = tf.math.softplus(self.bias_rho)\n",
    "        bias = self.bias_mu + bias_sigma * tf.random.normal(self.bias_mu.shape)\n",
    "\n",
    "        self.add_loss(self.kl_loss(kernel, self.kernel_mu, kernel_sigma) +\n",
    "                      self.kl_loss(bias, self.bias_mu, bias_sigma))\n",
    "\n",
    "        return self.activation(K.dot(inputs, kernel) + bias)\n",
    "\n",
    "    def kl_loss(self, w, mu, sigma):\n",
    "        variational_dist = tfp.distributions.Normal(mu, sigma)\n",
    "        return self.kl_weight * K.sum(variational_dist.log_prob(w) - self.log_prior_prob(w))\n",
    "\n",
    "    def log_prior_prob(self, w):\n",
    "        comp_1_dist = tfp.distributions.Normal(0.0, self.prior_sigma_1)\n",
    "        comp_2_dist = tfp.distributions.Normal(0.0, self.prior_sigma_2)\n",
    "        return K.log(self.prior_pi_1 * comp_1_dist.prob(w) +\n",
    "                     self.prior_pi_2 * comp_2_dist.prob(w))"
   ]
  },
  {
   "cell_type": "markdown",
   "metadata": {
    "id": "i4m1xeC1QY9e"
   },
   "source": [
    "# Build Model\n",
    "Below builds a dense neural net with two hidden layers, each with 400 units. It outputs logits and does not include the softmax."
   ]
  },
  {
   "cell_type": "code",
   "execution_count": null,
   "metadata": {
    "id": "53eyd-vsQaZI"
   },
   "outputs": [],
   "source": [
    "from keras.layers import Input, Flatten\n",
    "from keras.models import Model\n",
    "\n",
    "sample_size = 1\n",
    "num_batches = train_size / batch_size\n",
    "kl_weight = 1.0 / num_batches # Use this when loss is sum\n",
    "# kl_weight = 1.0 / train_size / sample_size # Use this when loss is average (auto)\n",
    "\n",
    "\n",
    "prior_params = {\n",
    "    'prior_sigma_1': np.float32(np.exp(-1)), \n",
    "    'prior_sigma_2': np.float32(np.exp(-7)), \n",
    "    'prior_pi': 0.5 \n",
    "}\n",
    "\n",
    "x_in = Input(shape=(x_train.shape[1],x_train.shape[2]))\n",
    "x = Flatten()(x_in)\n",
    "x = DenseVariational(100, kl_weight, **prior_params, activation='relu')(x)\n",
    "x = DenseVariational(100, kl_weight, **prior_params, activation='relu')(x)\n",
    "x = DenseVariational(10, kl_weight, **prior_params, activation='linear')(x)\n",
    "\n",
    "model = Model(x_in, x)"
   ]
  },
  {
   "cell_type": "markdown",
   "metadata": {
    "id": "9-N3KTYMQdg8"
   },
   "source": [
    "# Run Model\n",
    "It trains on sample_size (above cell) number of samples, and evaluates on eval_samples number of samples."
   ]
  },
  {
   "cell_type": "code",
   "execution_count": null,
   "metadata": {
    "colab": {
     "base_uri": "https://localhost:8080/"
    },
    "id": "whRCWCL7XChk",
    "outputId": "37a61161-ceef-4be8-9f8b-3def6a9e180c"
   },
   "outputs": [
    {
     "name": "stdout",
     "output_type": "stream",
     "text": [
      "WARNING:tensorflow:No training configuration found in save file, so the model was *not* compiled. Compile it manually.\n"
     ]
    }
   ],
   "source": [
    "model = load_model(path+'bayes_1_5/')"
   ]
  },
  {
   "cell_type": "code",
   "execution_count": null,
   "metadata": {
    "colab": {
     "base_uri": "https://localhost:8080/"
    },
    "id": "hGvw5nZ2ACJP",
    "outputId": "798e5e74-2e11-4c49-92fd-c9575362f896"
   },
   "outputs": [
    {
     "data": {
      "text/plain": [
       "<tf.Tensor: shape=(1, 10), dtype=float32, numpy=\n",
       "array([[ -0.92657375,  -1.805156  ,  -7.144741  ,   7.982416  ,\n",
       "        -20.7525    ,  18.941786  ,   8.023608  ,  -0.97761416,\n",
       "          8.325932  ,   7.3995056 ]], dtype=float32)>"
      ]
     },
     "execution_count": 8,
     "metadata": {
      "tags": []
     },
     "output_type": "execute_result"
    }
   ],
   "source": [
    "model(np.array([x_train[0]]))"
   ]
  },
  {
   "cell_type": "code",
   "execution_count": null,
   "metadata": {
    "id": "IPJgDb0Jc-u8"
   },
   "outputs": [],
   "source": [
    "from keras.optimizers import SGD\n",
    "from keras.losses import CategoricalCrossentropy\n",
    "from keras.metrics import CategoricalAccuracy\n",
    "from tensorflow.nn import softmax\n",
    "\n",
    "loss_fn = CategoricalCrossentropy(from_logits=True, reduction=tf.keras.losses.Reduction.SUM)\n",
    "optimizer = SGD(lr=1e-5, momentum=0.95)\n",
    "train_metric = CategoricalAccuracy()\n",
    "val_metric = CategoricalAccuracy()\n",
    "test_metric = CategoricalAccuracy()\n",
    "\n",
    "eval_samples = 10\n",
    "sample_size = 1\n",
    "\n",
    "def body_train_samples(loss_list, x_batch_train, y_batch_train, sample_size, i):\n",
    "  logits = model(x_batch_train)\n",
    "  loss_value = loss_fn(y_batch_train, logits)\n",
    "  loss_list = tf.concat([loss_list, [loss_value]], axis=0)\n",
    "  i = i + 1\n",
    "  return loss_list, x_batch_train, y_batch_train, sample_size, i\n",
    "\n",
    "def cond_train_samples(loss_list, x_batch_train, y_batch_train, sample_size, i):\n",
    "  return i < sample_size\n",
    "\n",
    "def body_eval_samples(pred_list, x, eval_samples, i):\n",
    "    logits = model(x)\n",
    "    pred_value = softmax(logits)\n",
    "    pred_list = tf.concat([pred_list, [pred_value]], axis=0)\n",
    "    i = i + 1\n",
    "    return pred_list, x, eval_samples, i\n",
    "\n",
    "def cond_eval_samples(pred_list, x, eval_samples, i):\n",
    "    return i < eval_samples"
   ]
  },
  {
   "cell_type": "code",
   "execution_count": null,
   "metadata": {
    "id": "j_XVJ5FuQegN"
   },
   "outputs": [],
   "source": [
    "'''\n",
    "Training begins\n",
    "'''\n",
    "\n",
    "epochs = 600\n",
    "for epoch in range(epochs):\n",
    "    print(\"\\nStart of epoch %d\" % (epoch,))\n",
    "    \n",
    "    for step, (x_batch_train, y_batch_train) in enumerate(train_dataset):\n",
    "        \n",
    "        kl_reweight = 1 / kl_weight * (2**(num_batches-step-1)) / (2**num_batches - 1)\n",
    "        kl_reweight = 1\n",
    "\n",
    "        with tf.GradientTape() as tape:\n",
    "            loss_list = tf.constant(tf.zeros(1))\n",
    "            loss_list, x_, y_, s_, i_ = tf.while_loop(cond_train_samples,\n",
    "                                                      body_train_samples, \n",
    "                                                      loop_vars=[loss_list,\n",
    "                                                                 x_batch_train, y_batch_train, \n",
    "                                                                 sample_size, 0],\n",
    "                                                      shape_invariants=[tf.TensorShape([None]),  \n",
    "                                                                        x_batch_train.shape,\n",
    "                                                                        y_batch_train.shape,\n",
    "                                                                        tf.TensorShape([]),\n",
    "                                                                        tf.TensorShape([])])\n",
    "            loss_list = tf.gather(loss_list, list(range(1, sample_size+1)))\n",
    "            loss_value = tf.reduce_mean(loss_list, axis=0)\n",
    "            loss_value += sum(model.losses) * kl_reweight\n",
    "\n",
    "        grads = tape.gradient(loss_value, model.trainable_variables)\n",
    "        optimizer.apply_gradients(zip(grads, model.trainable_variables))\n",
    "\n",
    "        if step % 200 == 0:\n",
    "            print(\"Training loss (for one batch) at step %d: %.4f\" % (step, float(loss_value)))\n",
    "\n",
    "    pred_list = tf.constant(tf.zeros((1, x_train.shape[0], y_train.shape[1])))\n",
    "    pred_list, x_, s_, i_ = tf.while_loop(cond_eval_samples,\n",
    "                                          body_eval_samples, \n",
    "                                          loop_vars=[pred_list, x_train, \n",
    "                                                     eval_samples, 0],\n",
    "                                          shape_invariants=[tf.TensorShape([None, x_train.shape[0], y_train.shape[1]]), \n",
    "                                                            x_train.shape,\n",
    "                                                            tf.TensorShape([]),\n",
    "                                                            tf.TensorShape([])])\n",
    "    pred_list = tf.gather(pred_list, list(range(1, eval_samples+1)))\n",
    "    pred_value = tf.reduce_mean(pred_list, axis=0)\n",
    "    \n",
    "    train_metric.update_state(y_train, pred_value)\n",
    "    train_acc = train_metric.result()\n",
    "    print(\"Training acc over epoch: %.4f\" % (float(train_acc),))\n",
    "    train_metric.reset_states()\n",
    "\n",
    "    val_pred_list = tf.constant(tf.zeros((1, x_val.shape[0], y_val.shape[1])))\n",
    "    val_pred_list, x_, s_, i_ = tf.while_loop(cond_eval_samples,\n",
    "                                              body_eval_samples, \n",
    "                                              loop_vars=[val_pred_list, x_val, \n",
    "                                                         eval_samples, 0],\n",
    "                                              shape_invariants=[tf.TensorShape([None, x_val.shape[0], y_val.shape[1]]), \n",
    "                                                                x_val.shape,\n",
    "                                                                tf.TensorShape([]),\n",
    "                                                                tf.TensorShape([])])\n",
    "    val_pred_list = tf.gather(val_pred_list, list(range(1, eval_samples+1)))\n",
    "    val_pred_value = tf.reduce_mean(val_pred_list, axis=0)\n",
    "\n",
    "    val_metric.update_state(y_val, val_pred_value)\n",
    "    val_acc = val_metric.result()\n",
    "    print(\"Validation acc over epoch: %.4f\" % (float(val_acc),))\n",
    "    val_metric.reset_states()\n",
    "\n",
    "    if epoch % 20 == 0:\n",
    "        model.save(path+'bayes_2_5/')"
   ]
  },
  {
   "cell_type": "markdown",
   "metadata": {
    "id": "jws4hv0d-uMC"
   },
   "source": [
    "# Analyze Model\n",
    "\n",
    "Test accuracy. Blundell, et al. (2015) reports 98.68% test accuracy for their best model."
   ]
  },
  {
   "cell_type": "code",
   "execution_count": null,
   "metadata": {
    "colab": {
     "base_uri": "https://localhost:8080/"
    },
    "id": "5u4i86rhSepz",
    "outputId": "32c70ac1-7e61-4a07-f676-cd11c5683b28"
   },
   "outputs": [
    {
     "name": "stdout",
     "output_type": "stream",
     "text": [
      "WARNING:tensorflow:No training configuration found in save file, so the model was *not* compiled. Compile it manually.\n"
     ]
    }
   ],
   "source": [
    "model = load_model(path+'model_rho_2/')\n",
    "w = model.get_weights()\n",
    "eval_samples = 100"
   ]
  },
  {
   "cell_type": "code",
   "execution_count": null,
   "metadata": {
    "colab": {
     "base_uri": "https://localhost:8080/"
    },
    "id": "_i83zfK8Rjsc",
    "outputId": "22aedfbe-0b59-4257-e7d0-4b03eb08b6fe"
   },
   "outputs": [
    {
     "name": "stdout",
     "output_type": "stream",
     "text": [
      "INFO:tensorflow:Assets written to: drive/MyDrive/BNNresults/model_small_rho_2/assets\n"
     ]
    }
   ],
   "source": [
    "#model.save(path+'model_small_rho_2/')"
   ]
  },
  {
   "cell_type": "code",
   "execution_count": null,
   "metadata": {
    "colab": {
     "base_uri": "https://localhost:8080/"
    },
    "id": "R54niO_NIhxv",
    "outputId": "ea9c614a-07e5-4cea-a765-79c815932a64"
   },
   "outputs": [
    {
     "name": "stdout",
     "output_type": "stream",
     "text": [
      "Test accuracy: 0.9818\n"
     ]
    }
   ],
   "source": [
    "pred_list = tf.constant(tf.zeros((1, x_test.shape[0], y_test.shape[1])))\n",
    "pred_list, x_, s_, i_ = tf.while_loop(cond_eval_samples,\n",
    "                                      body_eval_samples, \n",
    "                                      loop_vars=[pred_list, x_test, \n",
    "                                                eval_samples, 0],\n",
    "                                      shape_invariants=[tf.TensorShape([None, x_test.shape[0], y_test.shape[1]]), \n",
    "                                                        x_test.shape,\n",
    "                                                        tf.TensorShape([]),\n",
    "                                                        tf.TensorShape([])])\n",
    "pred_list = tf.gather(pred_list, list(range(1, eval_samples+1)))\n",
    "pred_value = tf.reduce_mean(pred_list, axis=0)\n",
    "\n",
    "test_metric.update_state(y_test, pred_value)\n",
    "test_acc = test_metric.result()\n",
    "print(\"Test accuracy: %.4f\" % (float(test_acc),))\n",
    "test_metric.reset_states()"
   ]
  },
  {
   "cell_type": "markdown",
   "metadata": {
    "id": "LXasmLhyEYGQ"
   },
   "source": [
    "Get signal-to-noise ratio, and reproduce Figure 4 of Blundell, et al. (2015). We also test model properties after weights are removed based on the signal-to-noise ratio."
   ]
  },
  {
   "cell_type": "code",
   "execution_count": null,
   "metadata": {
    "id": "shATSyJMSHrs"
   },
   "outputs": [],
   "source": [
    "model.set_weights(w)"
   ]
  },
  {
   "cell_type": "code",
   "execution_count": null,
   "metadata": {
    "id": "DJz3VdehBPzd"
   },
   "outputs": [],
   "source": [
    "'''\n",
    "Weights pruning.\n",
    "This section depends on the knowledge that, model weights follows this format:\n",
    "for each layer:\n",
    "    weight_mu\n",
    "    bias_mu\n",
    "    weight_rho\n",
    "    bias_rho\n",
    "'''\n",
    "\n",
    "sn_ratio = []\n",
    "for i in range(0, len(w), 4):\n",
    "    sn_ratio.append(w[i]/tf.math.softplus(w[i+2]))\n",
    "    sn_ratio.append(w[i+1]/tf.math.softplus(w[i+3]))\n",
    "\n",
    "sorted_ratio = []\n",
    "for i in range(len(sn_ratio)):\n",
    "    sorted_ratio.append(np.argsort(np.reshape(abs(sn_ratio[i]), (-1,))))\n",
    "\n",
    "remove_ratio = 0.75\n",
    "\n",
    "new_weights = deepcopy(w)\n",
    "for i in range(0, len(sorted_ratio), 2):\n",
    "    remove_until_1 = min(int(len(sorted_ratio[i]) * remove_ratio), (len(sorted_ratio[i])-1))\n",
    "    remove_until_2 = min(int(len(sorted_ratio[i+1]) * remove_ratio), (len(sorted_ratio[i+1])-1))\n",
    "    for j in range(remove_until_1):\n",
    "        rmv_idx = sorted_ratio[i][j]\n",
    "        idx1 = int(rmv_idx / w[i*2].shape[1])\n",
    "        idx2 = rmv_idx - idx1 * w[i*2].shape[1]\n",
    "        new_weights[i*2][idx1, idx2] = 0.0\n",
    "        new_weights[i*2+2][idx1, idx2] = -100.0\n",
    "    for j in range(remove_until_2):\n",
    "        idx = sorted_ratio[i+1][j]\n",
    "        new_weights[i*2+1][idx] = 0.0\n",
    "        new_weights[i*2+3][idx] = -100.0"
   ]
  },
  {
   "cell_type": "code",
   "execution_count": null,
   "metadata": {
    "id": "NN3rBy7w10gn"
   },
   "outputs": [],
   "source": [
    "'''\n",
    "Baseline for weights pruning\n",
    "'''\n",
    "\n",
    "model_2 = load_model(path+'model_1200_1200_10_relu/')\n",
    "w_2 = model_2.get_weights()\n",
    "\n",
    "sn_ratio_2 = []\n",
    "for i in range(0, len(w_2)):\n",
    "    sn_ratio_2.append(w_2[i])\n",
    "\n",
    "sorted_ratio_2 = []\n",
    "for i in range(len(sn_ratio_2)):\n",
    "    sorted_ratio_2.append(np.argsort(np.reshape(abs(sn_ratio_2[i]), (-1,))))\n",
    "\n",
    "remove_ratio = 0.98\n",
    "\n",
    "new_weights_2 = deepcopy(w_2)\n",
    "for i in range(0, len(sorted_ratio_2), 2):\n",
    "    remove_until_1 = min(int(len(sorted_ratio_2[i]) * remove_ratio), (len(sorted_ratio_2[i])-1))\n",
    "    remove_until_2 = min(int(len(sorted_ratio_2[i+1]) * remove_ratio), (len(sorted_ratio_2[i+1])-1))\n",
    "    for j in range(remove_until_1):\n",
    "        rmv_idx = sorted_ratio_2[i][j]\n",
    "        idx1 = int(rmv_idx / w_2[i].shape[1])\n",
    "        idx2 = rmv_idx - idx1 * w_2[i].shape[1]\n",
    "        new_weights_2[i][idx1, idx2] = 0.0\n",
    "    for j in range(remove_until_2):\n",
    "        idx = sorted_ratio_2[i+1][j]\n",
    "        new_weights_2[i+1][idx] = 0.0"
   ]
  },
  {
   "cell_type": "code",
   "execution_count": null,
   "metadata": {
    "colab": {
     "base_uri": "https://localhost:8080/"
    },
    "id": "5oL5rFFBRCaI",
    "outputId": "b22effbb-52da-4d2a-85db-0c979488f7c2"
   },
   "outputs": [
    {
     "name": "stdout",
     "output_type": "stream",
     "text": [
      "Test accuracy: 0.9816\n"
     ]
    }
   ],
   "source": [
    "model.set_weights(new_weights)\n",
    "\n",
    "pred_list = tf.constant(tf.zeros((1, x_test.shape[0], y_test.shape[1])))\n",
    "pred_list, x_, s_, i_ = tf.while_loop(cond_eval_samples,\n",
    "                                      body_eval_samples, \n",
    "                                      loop_vars=[pred_list, x_test, \n",
    "                                                 eval_samples, 0],\n",
    "                                      shape_invariants=[tf.TensorShape([None, x_test.shape[0], y_test.shape[1]]), \n",
    "                                                        x_test.shape,\n",
    "                                                        tf.TensorShape([]),\n",
    "                                                        tf.TensorShape([])])\n",
    "pred_list = tf.gather(pred_list, list(range(1, eval_samples+1)))\n",
    "pred_value = tf.reduce_mean(pred_list, axis=0)\n",
    "\n",
    "test_metric.update_state(y_test, pred_value)\n",
    "test_acc = test_metric.result()\n",
    "print(\"Test accuracy: %.4f\" % (float(test_acc),))\n",
    "test_metric.reset_states()"
   ]
  },
  {
   "cell_type": "code",
   "execution_count": null,
   "metadata": {
    "colab": {
     "base_uri": "https://localhost:8080/"
    },
    "id": "y1kU7TmcqQYp",
    "outputId": "7badb896-911f-4cf9-b0a1-0674442d4ef8"
   },
   "outputs": [
    {
     "name": "stdout",
     "output_type": "stream",
     "text": [
      "313/313 [==============================] - 1s 2ms/step - loss: 2.1039 - categorical_accuracy: 0.3820\n"
     ]
    },
    {
     "data": {
      "text/plain": [
       "[2.1039233207702637, 0.38199999928474426]"
      ]
     },
     "execution_count": 31,
     "metadata": {
      "tags": []
     },
     "output_type": "execute_result"
    }
   ],
   "source": [
    "model_2.set_weights(new_weights_2)\n",
    "model_2.evaluate(x_test, y_test)"
   ]
  },
  {
   "cell_type": "code",
   "execution_count": null,
   "metadata": {
    "id": "ZSCI3i_bsQ7f"
   },
   "outputs": [],
   "source": []
  },
  {
   "cell_type": "code",
   "execution_count": null,
   "metadata": {
    "colab": {
     "base_uri": "https://localhost:8080/",
     "height": 295
    },
    "id": "Zk6d_JJgap6v",
    "outputId": "b9d8654e-1f94-462c-bb75-525eed4669d4"
   },
   "outputs": [
    {
     "data": {
      "image/png": "[encoded data removed]",
      "text/plain": [
       "<Figure size 432x288 with 1 Axes>"
      ]
     },
     "metadata": {
      "needs_background": "light",
      "tags": []
     },
     "output_type": "display_data"
    }
   ],
   "source": [
    "ratio_list = []\n",
    "for i in range(len(sn_ratio)):\n",
    "    ratio_list.extend(np.reshape(sn_ratio[i], (-1,)))\n",
    "ratio_list.sort()\n",
    "plt.plot(ratio_list, np.array(list(range(len(ratio_list))))/len(ratio_list))\n",
    "plt.xlim(-3,3)\n",
    "plt.xlabel('Mean-to-STD Ratio')\n",
    "plt.ylabel('CDF')\n",
    "plt.title('Cumulative Distribution of Mean-to-STD Ratio')\n",
    "plt.show()\n"
   ]
  },
  {
   "cell_type": "code",
   "execution_count": null,
   "metadata": {
    "colab": {
     "base_uri": "https://localhost:8080/",
     "height": 265
    },
    "id": "INx6OQU8aqNd",
    "outputId": "3693662c-b09c-43f9-b13c-4d354f641d41"
   },
   "outputs": [
    {
     "data": {
      "image/png": "[encoded data removed]",
      "text/plain": [
       "<Figure size 432x288 with 1 Axes>"
      ]
     },
     "metadata": {
      "needs_background": "light",
      "tags": []
     },
     "output_type": "display_data"
    }
   ],
   "source": [
    "plt.hist(ratio_list, bins=np.arange(-3, 3, 0.2))\n",
    "plt.show()"
   ]
  },
  {
   "cell_type": "code",
   "execution_count": null,
   "metadata": {
    "id": "VzBdSBWFPIA9"
   },
   "outputs": [],
   "source": [
    "def weights_to_dict(w, save=True, name='weights.npy'):\n",
    "    weights_dict = {}\n",
    "    for i in range(0, len(w), 4):\n",
    "        weights_dict['kernel_mu'+str(int((i+4)/4))] = w[i]\n",
    "        weights_dict['bias_mu'+str(int((i+4)/4))] = w[i+1]\n",
    "        weights_dict['kernel_rho'+str(int((i+4)/4))] = w[i+2]\n",
    "        weights_dict['bias_rho'+str(int((i+4)/4))] = w[i+3]\n",
    "    if save:\n",
    "        np.save(path+name, weights_dict)\n",
    "    return weights_dict"
   ]
  },
  {
   "cell_type": "code",
   "execution_count": null,
   "metadata": {
    "id": "4J2-vHpYPH18"
   },
   "outputs": [],
   "source": []
  },
  {
   "cell_type": "code",
   "execution_count": null,
   "metadata": {
    "id": "6FqHNBJYU55H"
   },
   "outputs": [],
   "source": []
  },
  {
   "cell_type": "code",
   "execution_count": null,
   "metadata": {
    "id": "-AkqNAh6U6AB"
   },
   "outputs": [],
   "source": []
  },
  {
   "cell_type": "code",
   "execution_count": null,
   "metadata": {
    "id": "SK8hqjzAU6G9"
   },
   "outputs": [],
   "source": []
  },
  {
   "cell_type": "code",
   "execution_count": null,
   "metadata": {
    "colab": {
     "base_uri": "https://localhost:8080/"
    },
    "id": "vx9jHih1BQFq",
    "outputId": "8ee228b5-f5e0-4c4b-e2e4-8ecf84d1f54e"
   },
   "outputs": [
    {
     "name": "stdout",
     "output_type": "stream",
     "text": [
      "[[-1.8525001 -1.8606869 -1.8478537 ... -1.8528159 -1.8590406 -1.8581816]\n",
      " [-1.8589876 -1.8443335 -1.8405712 ... -1.8559977 -1.8505648 -1.8505986]\n",
      " [-1.8560023 -1.8583533 -1.8422867 ... -1.8624007 -1.859321  -1.8571384]\n",
      " ...\n",
      " [-1.8528266 -1.8447882 -1.8595027 ... -1.8573469 -1.8580383 -1.8423262]\n",
      " [-1.8521506 -1.846628  -1.8596967 ... -1.8442379 -1.8386868 -1.8585633]\n",
      " [-1.8498831 -1.8462712 -1.8603812 ... -1.8619213 -1.8586888 -1.8498415]]\n",
      "[-1.86446   -1.881911  -1.8689471 ... -1.8543952 -1.8999559 -1.8452338]\n",
      "[[-1.8594781 -1.847208  -1.8560729 ... -1.863322  -1.8520081 -1.8590202]\n",
      " [-1.8550375 -1.8331497 -1.8574989 ... -1.8532501 -1.863769  -1.8604479]\n",
      " [-1.8600539 -1.8613682 -1.8426441 ... -1.8406124 -1.8649052 -1.8578653]\n",
      " ...\n",
      " [-1.844118  -1.8543179 -1.8602166 ... -1.8475657 -1.8504319 -1.8419259]\n",
      " [-1.883404  -1.8484778 -1.8648275 ... -1.8583097 -1.8742409 -1.8904575]\n",
      " [-1.851684  -1.8515636 -1.8565239 ... -1.8578632 -1.850777  -1.8538802]]\n",
      "[-1.8608351 -1.8607426 -1.844943  ... -1.8595005 -1.844175  -1.8430235]\n",
      "[[-1.8750066 -1.8516694 -1.8486239 ... -1.9893552 -1.7892936 -1.9238908]\n",
      " [-1.8839363 -1.8453683 -1.8786387 ... -1.8746687 -1.8646684 -1.8718163]\n",
      " [-1.8858467 -1.8996704 -1.934976  ... -1.8880564 -1.8660582 -1.8961716]\n",
      " ...\n",
      " [-1.8731701 -1.9048238 -1.9329119 ... -1.8638141 -1.8826541 -1.9090687]\n",
      " [-1.8673521 -1.8784612 -1.9065484 ... -1.9046142 -1.8768791 -1.8610412]\n",
      " [-1.863173  -1.9011486 -1.933754  ... -2.033283  -1.9172014 -1.970446 ]]\n",
      "[-2.0851912 -2.091921  -2.244388  -2.322025  -2.2101414 -2.23426\n",
      " -2.1054208 -2.2215776 -2.3824775 -2.3805017]\n"
     ]
    }
   ],
   "source": [
    "w = model.get_weights()\n",
    "for i in range(0, len(w), 4):\n",
    "    print(w[i+2])\n",
    "    print(w[i+3])\n"
   ]
  },
  {
   "cell_type": "code",
   "execution_count": null,
   "metadata": {
    "colab": {
     "base_uri": "https://localhost:8080/"
    },
    "id": "1YUQLnQ-97wv",
    "outputId": "b0625860-8700-4a71-cc30-e59ae0a3f7db"
   },
   "outputs": [
    {
     "name": "stdout",
     "output_type": "stream",
     "text": [
      "(784, 1200)\n",
      "(1200,)\n",
      "(784, 1200)\n",
      "(1200,)\n",
      "(1200, 1200)\n",
      "(1200,)\n",
      "(1200, 1200)\n",
      "(1200,)\n",
      "(1200, 10)\n",
      "(10,)\n",
      "(1200, 10)\n",
      "(10,)\n"
     ]
    }
   ],
   "source": [
    "w = model.get_weights()\n",
    "for i in range(len(w)):\n",
    "    print(w[i].shape)"
   ]
  },
  {
   "cell_type": "code",
   "execution_count": null,
   "metadata": {
    "id": "0scZH04zBdh5"
   },
   "outputs": [],
   "source": []
  },
  {
   "cell_type": "code",
   "execution_count": null,
   "metadata": {
    "id": "qHrFo5xoBdv8"
   },
   "outputs": [],
   "source": []
  }
 ],
 "metadata": {
  "accelerator": "GPU",
  "colab": {
   "collapsed_sections": [],
   "name": "bnn.ipynb",
   "provenance": []
  },
  "kernelspec": {
   "display_name": "Python 3",
   "language": "python",
   "name": "python3"
  },
  "language_info": {
   "codemirror_mode": {
    "name": "ipython",
    "version": 3
   },
   "file_extension": ".py",
   "mimetype": "text/x-python",
   "name": "python",
   "nbconvert_exporter": "python",
   "pygments_lexer": "ipython3",
   "version": "3.7.4"
  }
 },
 "nbformat": 4,
 "nbformat_minor": 1
}
